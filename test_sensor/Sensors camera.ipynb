{
 "cells": [
  {
   "cell_type": "code",
   "execution_count": 1,
   "id": "6e6b6dec-c0f6-4496-9b75-d74bcba07183",
   "metadata": {},
   "outputs": [],
   "source": [
    "import carla \n",
    "import math \n",
    "import random \n",
    "import time \n",
    "import numpy as np\n",
    "import cv2\n",
    " \n",
    "# Connect the client and set up bp library and spawn points\n",
    "client = carla.Client('carla_server', 2000) \n",
    "world = client.get_world()\n",
    "bp_lib = world.get_blueprint_library() \n",
    "spawn_points = world.get_map().get_spawn_points() "
   ]
  },
  {
   "cell_type": "code",
   "execution_count": 2,
   "id": "93c94c6a-4c3e-487b-8de9-823e440f3c43",
   "metadata": {},
   "outputs": [
    {
     "ename": "AttributeError",
     "evalue": "'NoneType' object has no attribute 'get_transform'",
     "output_type": "error",
     "traceback": [
      "\u001b[0;31m---------------------------------------------------------------------------\u001b[0m",
      "\u001b[0;31mAttributeError\u001b[0m                            Traceback (most recent call last)",
      "\u001b[1;32m/home/docker/carla-ros-bridge/test_sensor/Sensors camera.ipynb Cell 2\u001b[0m line \u001b[0;36m7\n\u001b[1;32m      <a href='vscode-notebook-cell://attached-container%2B7b22636f6e7461696e65724e616d65223a222f6361726c615f726f73322d6361726c615f726f735f6272696467652d31227d/home/docker/carla-ros-bridge/test_sensor/Sensors%20camera.ipynb#W1sdnNjb2RlLXJlbW90ZQ%3D%3D?line=4'>5</a>\u001b[0m \u001b[39m# Move spectator behind vehicle to view\u001b[39;00m\n\u001b[1;32m      <a href='vscode-notebook-cell://attached-container%2B7b22636f6e7461696e65724e616d65223a222f6361726c615f726f73322d6361726c615f726f735f6272696467652d31227d/home/docker/carla-ros-bridge/test_sensor/Sensors%20camera.ipynb#W1sdnNjb2RlLXJlbW90ZQ%3D%3D?line=5'>6</a>\u001b[0m spectator \u001b[39m=\u001b[39m world\u001b[39m.\u001b[39mget_spectator() \n\u001b[0;32m----> <a href='vscode-notebook-cell://attached-container%2B7b22636f6e7461696e65724e616d65223a222f6361726c615f726f73322d6361726c615f726f735f6272696467652d31227d/home/docker/carla-ros-bridge/test_sensor/Sensors%20camera.ipynb#W1sdnNjb2RlLXJlbW90ZQ%3D%3D?line=6'>7</a>\u001b[0m transform \u001b[39m=\u001b[39m carla\u001b[39m.\u001b[39mTransform(vehicle\u001b[39m.\u001b[39;49mget_transform()\u001b[39m.\u001b[39mtransform(carla\u001b[39m.\u001b[39mLocation(x\u001b[39m=\u001b[39m\u001b[39m-\u001b[39m\u001b[39m4\u001b[39m,z\u001b[39m=\u001b[39m\u001b[39m2.5\u001b[39m)),vehicle\u001b[39m.\u001b[39mget_transform()\u001b[39m.\u001b[39mrotation) \n\u001b[1;32m      <a href='vscode-notebook-cell://attached-container%2B7b22636f6e7461696e65724e616d65223a222f6361726c615f726f73322d6361726c615f726f735f6272696467652d31227d/home/docker/carla-ros-bridge/test_sensor/Sensors%20camera.ipynb#W1sdnNjb2RlLXJlbW90ZQ%3D%3D?line=7'>8</a>\u001b[0m spectator\u001b[39m.\u001b[39mset_transform(transform)\n",
      "\u001b[0;31mAttributeError\u001b[0m: 'NoneType' object has no attribute 'get_transform'"
     ]
    }
   ],
   "source": [
    "# Spawn ego vehicle\n",
    "vehicle_bp = bp_lib.find('vehicle.audi.a2') \n",
    "vehicle = world.try_spawn_actor(vehicle_bp, random.choice(spawn_points))\n",
    "\n",
    "# Move spectator behind vehicle to view\n",
    "spectator = world.get_spectator() \n",
    "transform = carla.Transform(vehicle.get_transform().transform(carla.Location(x=-4,z=2.5)),vehicle.get_transform().rotation) \n",
    "spectator.set_transform(transform)"
   ]
  },
  {
   "cell_type": "code",
   "execution_count": null,
   "id": "ed6cf2b6-543d-4516-a0ff-04b6d9419210",
   "metadata": {},
   "outputs": [
    {
     "data": {
      "text/plain": [
       "True"
      ]
     },
     "execution_count": 3,
     "metadata": {},
     "output_type": "execute_result"
    }
   ],
   "source": [
    "#Iterate this cell to find desired camera location\n",
    "camera_bp = bp_lib.find('sensor.camera.rgb') \n",
    "camera_init_trans = carla.Transform(carla.Location(z=2)) #Change this to move camera\n",
    "camera = world.spawn_actor(camera_bp, camera_init_trans, attach_to=vehicle)\n",
    "\n",
    "time.sleep(0.2)\n",
    "spectator.set_transform(camera.get_transform())\n",
    "camera.destroy()"
   ]
  },
  {
   "cell_type": "code",
   "execution_count": null,
   "id": "31a8f3d7-46db-4a0a-9060-2f6cb2a4d117",
   "metadata": {},
   "outputs": [
    {
     "ename": "SyntaxError",
     "evalue": "invalid syntax (1082826721.py, line 7)",
     "output_type": "error",
     "traceback": [
      "\u001b[0;36m  Cell \u001b[0;32mIn[9], line 7\u001b[0;36m\u001b[0m\n\u001b[0;31m    def camera_callback(image, data_dict):\u001b[0m\n\u001b[0m    ^\u001b[0m\n\u001b[0;31mSyntaxError\u001b[0m\u001b[0;31m:\u001b[0m invalid syntax\n"
     ]
    }
   ],
   "source": [
    "# Spawn camera\n",
    "camera_init_trans = carla.Transform(carla.Location(z=2))\n",
    "camera = world.spawn_actor(camera_bp, camera_init_trans, attach_to=vehicle\n",
    "\n",
    "# Callback stores sensor data in a dictionary for use outside callback                         \n",
    "# def camera_callback(image, data_dict):\n",
    "def camera_callback(image, data_dict):\n",
    "    data_dict['image'] = np.reshape(np.copy(image.raw_data), (image.height, image.width, 4))\n",
    "\n",
    "# Get gamera dimensions and initialise dictionary                       \n",
    "image_w = camera_bp.get_attribute(\"image_size_x\").as_int()\n",
    "image_h = camera_bp.get_attribute(\"image_size_y\").as_int()\n",
    "camera_data = {'image': np.zeros((image_h, image_w, 4))}\n",
    "\n",
    "# Start camera recording\n",
    "camera.listen(lambda image: camera_callback(image, camera_data))"
   ]
  },
  {
   "cell_type": "code",
   "execution_count": null,
   "id": "94c922b3-fa0d-4797-95e5-9d7077673280",
   "metadata": {},
   "outputs": [],
   "source": [
    "# OpenCV named window for rendering\n",
    "cv2.namedWindow('RGB Camera', cv2.WINDOW_AUTOSIZE)\n",
    "cv2.imshow('RGB Camera', camera_data['image'])\n",
    "cv2.waitKey(1)\n",
    "\n",
    "# Game loop\n",
    "while True:\n",
    "    \n",
    "    # Imshow renders sensor data to display\n",
    "    cv2.imshow('RGB Camera', camera_data['image'])\n",
    "    \n",
    "    # Quit if user presses 'q'\n",
    "    if cv2.waitKey(1) == ord('q'):\n",
    "        break\n",
    "\n",
    "# Close OpenCV window when finished\n",
    "cv2.destroyAllWindows()\n",
    "cv2.stop()"
   ]
  }
 ],
 "metadata": {
  "kernelspec": {
   "display_name": "Python 3 (ipykernel)",
   "language": "python",
   "name": "python3"
  },
  "language_info": {
   "codemirror_mode": {
    "name": "ipython",
    "version": 3
   },
   "file_extension": ".py",
   "mimetype": "text/x-python",
   "name": "python",
   "nbconvert_exporter": "python",
   "pygments_lexer": "ipython3",
   "version": "3.8.10"
  }
 },
 "nbformat": 4,
 "nbformat_minor": 5
}
